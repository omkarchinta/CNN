{
 "cells": [
  {
   "cell_type": "markdown",
   "id": "1f96834d",
   "metadata": {},
   "source": [
    "# ADTA 5900: CNN on CIFAR-10: Final Project"
   ]
  },
  {
   "cell_type": "markdown",
   "id": "96f854a0",
   "metadata": {},
   "source": [
    "## Set Path for Data Folder"
   ]
  },
  {
   "cell_type": "code",
   "execution_count": 1,
   "id": "19b82963",
   "metadata": {},
   "outputs": [],
   "source": [
    "#setting the path from Remote virtual machine\n",
    "\n",
    "CIFAR_DIR = 'JP_NTBK/CIFAR_10_DATA/'"
   ]
  },
  {
   "cell_type": "markdown",
   "id": "6e125f77",
   "metadata": {},
   "source": [
    "## Load Data"
   ]
  },
  {
   "cell_type": "code",
   "execution_count": 2,
   "id": "f5009599",
   "metadata": {},
   "outputs": [],
   "source": [
    "#this is the function which is used to read the files in the python version of dataset\n",
    "def unpickle(file):\n",
    "    import pickle\n",
    "    with open(file, 'rb') as fo:\n",
    "        cifar_dict = pickle.load(fo, encoding='bytes')\n",
    "    return cifar_dict"
   ]
  },
  {
   "cell_type": "code",
   "execution_count": 3,
   "id": "3bd899f9",
   "metadata": {},
   "outputs": [],
   "source": [
    "#one meta and five batches of training data and one batch of testing data \n",
    "dirs = ['batches.meta','data_batch_1','data_batch_2','data_batch_3','data_batch_4','data_batch_5','test_batch']\n",
    "\n",
    "all_data = [0,1,2,3,4,5,6]\n",
    "\n",
    "for i,direc in zip(all_data,dirs):\n",
    "    all_data[i] = unpickle(CIFAR_DIR+direc)"
   ]
  },
  {
   "cell_type": "code",
   "execution_count": 4,
   "id": "f585c926",
   "metadata": {},
   "outputs": [],
   "source": [
    "batch_meta = all_data[0]\n",
    "data_batch1 = all_data[1]\n",
    "data_batch2 = all_data[2]\n",
    "data_batch3 = all_data[3]\n",
    "data_batch4 = all_data[4]\n",
    "data_batch5 = all_data[5]\n",
    "test_batch = all_data[6]"
   ]
  },
  {
   "cell_type": "code",
   "execution_count": 5,
   "id": "66d3e60b",
   "metadata": {},
   "outputs": [
    {
     "data": {
      "text/plain": [
       "{b'num_cases_per_batch': 10000,\n",
       " b'label_names': [b'airplane',\n",
       "  b'automobile',\n",
       "  b'bird',\n",
       "  b'cat',\n",
       "  b'deer',\n",
       "  b'dog',\n",
       "  b'frog',\n",
       "  b'horse',\n",
       "  b'ship',\n",
       "  b'truck'],\n",
       " b'num_vis': 3072}"
      ]
     },
     "execution_count": 5,
     "metadata": {},
     "output_type": "execute_result"
    }
   ],
   "source": [
    "batch_meta #content present in meta data"
   ]
  },
  {
   "cell_type": "code",
   "execution_count": 6,
   "id": "6c409a03",
   "metadata": {},
   "outputs": [
    {
     "data": {
      "text/plain": [
       "dict_keys([b'batch_label', b'labels', b'data', b'filenames'])"
      ]
     },
     "execution_count": 6,
     "metadata": {},
     "output_type": "execute_result"
    }
   ],
   "source": [
    "data_batch1.keys() #keys in data_batch1"
   ]
  },
  {
   "cell_type": "markdown",
   "id": "ccc772bb",
   "metadata": {},
   "source": [
    "## Display several examples of single images using matplotlib "
   ]
  },
  {
   "cell_type": "code",
   "execution_count": 7,
   "id": "64c92e5a",
   "metadata": {},
   "outputs": [],
   "source": [
    "import matplotlib.pyplot as plt\n",
    "%matplotlib inline\n",
    "\n",
    "import numpy as np"
   ]
  },
  {
   "cell_type": "code",
   "execution_count": 8,
   "id": "8e9b3c0e",
   "metadata": {},
   "outputs": [],
   "source": [
    "X = data_batch1[b\"data\"] "
   ]
  },
  {
   "cell_type": "code",
   "execution_count": 9,
   "id": "b59b270e",
   "metadata": {},
   "outputs": [],
   "source": [
    "X = X.reshape(10000, 3, 32, 32).transpose(0,2,3,1).astype(\"uint8\")"
   ]
  },
  {
   "cell_type": "code",
   "execution_count": 10,
   "id": "07d19fcf",
   "metadata": {},
   "outputs": [
    {
     "data": {
      "text/plain": [
       "255"
      ]
     },
     "execution_count": 10,
     "metadata": {},
     "output_type": "execute_result"
    }
   ],
   "source": [
    "X[0].max()"
   ]
  },
  {
   "cell_type": "code",
   "execution_count": 11,
   "id": "57f81569",
   "metadata": {},
   "outputs": [
    {
     "data": {
      "text/plain": [
       "1.0"
      ]
     },
     "execution_count": 11,
     "metadata": {},
     "output_type": "execute_result"
    }
   ],
   "source": [
    "(X[0]/255).max()"
   ]
  },
  {
   "cell_type": "code",
   "execution_count": 12,
   "id": "98d7a334",
   "metadata": {},
   "outputs": [
    {
     "data": {
      "text/plain": [
       "<matplotlib.image.AxesImage at 0x7feaa0b28190>"
      ]
     },
     "execution_count": 12,
     "metadata": {},
     "output_type": "execute_result"
    },
    {
     "data": {
      "image/png": "[encoded data removed]",
      "text/plain": [
       "<Figure size 432x288 with 1 Axes>"
      ]
     },
     "metadata": {
      "needs_background": "light"
     },
     "output_type": "display_data"
    }
   ],
   "source": [
    "plt.imshow(X[4])"
   ]
  },
  {
   "cell_type": "code",
   "execution_count": 13,
   "id": "13d7c161",
   "metadata": {},
   "outputs": [
    {
     "data": {
      "text/plain": [
       "<matplotlib.image.AxesImage at 0x7feaa0b44490>"
      ]
     },
     "execution_count": 13,
     "metadata": {},
     "output_type": "execute_result"
    },
    {
     "data": {
      "image/png": "[encoded data removed]",
      "text/plain": [
       "<Figure size 432x288 with 1 Axes>"
      ]
     },
     "metadata": {
      "needs_background": "light"
     },
     "output_type": "display_data"
    }
   ],
   "source": [
    "plt.imshow(X[2])"
   ]
  },
  {
   "cell_type": "code",
   "execution_count": 14,
   "id": "84971a6f",
   "metadata": {},
   "outputs": [
    {
     "data": {
      "text/plain": [
       "<matplotlib.image.AxesImage at 0x7feaa087dbd0>"
      ]
     },
     "execution_count": 14,
     "metadata": {},
     "output_type": "execute_result"
    },
    {
     "data": {
      "image/png": "[encoded data removed]",
      "text/plain": [
       "<Figure size 432x288 with 1 Axes>"
      ]
     },
     "metadata": {
      "needs_background": "light"
     },
     "output_type": "display_data"
    }
   ],
   "source": [
    "plt.imshow(X[3])"
   ]
  },
  {
   "cell_type": "markdown",
   "id": "90ed7e6a",
   "metadata": {},
   "source": [
    "## Supporting Functions to Rearrange Data"
   ]
  },
  {
   "cell_type": "markdown",
   "id": "21560923",
   "metadata": {},
   "source": [
    "### Encode Labels into One-Hot Format"
   ]
  },
  {
   "cell_type": "code",
   "execution_count": 15,
   "id": "48369222",
   "metadata": {},
   "outputs": [],
   "source": [
    "def one_hot_encode(vec, vals=10):\n",
    "    '''\n",
    "    For use to one-hot encode the 10- possible labels\n",
    "    '''\n",
    "    n = len(vec)\n",
    "    out = np.zeros((n, vals))\n",
    "    out[range(n), vec] = 1\n",
    "    return out"
   ]
  },
  {
   "cell_type": "markdown",
   "id": "1fc70c24",
   "metadata": {},
   "source": [
    "## Set Up Image Data: Make it Ready to be Fed into 1st Conv Layer"
   ]
  },
  {
   "cell_type": "code",
   "execution_count": 16,
   "id": "7f9e8f6e",
   "metadata": {},
   "outputs": [],
   "source": [
    "class CifarHelper():\n",
    "    \n",
    "    def __init__(self):\n",
    "        self.i = 0\n",
    "        \n",
    "        self.all_train_batches = [data_batch1,data_batch2,data_batch3,data_batch4,data_batch5]\n",
    "        self.test_batch = [test_batch]\n",
    "        \n",
    "        self.training_images = None\n",
    "        self.training_labels = None\n",
    "        \n",
    "        self.test_images = None\n",
    "        self.test_labels = None\n",
    "    \n",
    "    def set_up_images(self):\n",
    "        \n",
    "        print(\"Setting Up Training Images and Labels\")\n",
    "        \n",
    "        self.training_images = np.vstack([d[b\"data\"] for d in self.all_train_batches])\n",
    "        train_len = len(self.training_images)\n",
    "        \n",
    "        self.training_images = self.training_images.reshape(train_len,3,32,32).transpose(0,2,3,1)/255\n",
    "        self.training_labels = one_hot_encode(np.hstack([d[b\"labels\"] for d in self.all_train_batches]), 10)\n",
    "        \n",
    "        print(\"Setting Up Test Images and Labels\")\n",
    "        \n",
    "        self.test_images = np.vstack([d[b\"data\"] for d in self.test_batch])\n",
    "        test_len = len(self.test_images)\n",
    "        \n",
    "        self.test_images = self.test_images.reshape(test_len,3,32,32).transpose(0,2,3,1)/255\n",
    "        self.test_labels = one_hot_encode(np.hstack([d[b\"labels\"] for d in self.test_batch]), 10)\n",
    "\n",
    "        \n",
    "    def next_batch(self, batch_size):\n",
    "        x = self.training_images[self.i:self.i+batch_size].reshape(100,32,32,3)\n",
    "        y = self.training_labels[self.i:self.i+batch_size]\n",
    "        self.i = (self.i + batch_size) % len(self.training_images)\n",
    "        return x, y"
   ]
  },
  {
   "cell_type": "markdown",
   "id": "55ff559b",
   "metadata": {},
   "source": [
    "## Set up image data: Calling Cifar Helper.set_up_images()"
   ]
  },
  {
   "cell_type": "code",
   "execution_count": 17,
   "id": "06064c23",
   "metadata": {},
   "outputs": [
    {
     "name": "stdout",
     "output_type": "stream",
     "text": [
      "Setting Up Training Images and Labels\n",
      "Setting Up Test Images and Labels\n"
     ]
    }
   ],
   "source": [
    "# Before Your tf.Session run these two lines\n",
    "ch = CifarHelper()\n",
    "ch.set_up_images()\n",
    "\n",
    "# During your session to grab the next batch use this line\n",
    "# (Just like we did for mnist.train.next_batch)\n",
    "# batch = ch.next_batch(100)"
   ]
  },
  {
   "cell_type": "markdown",
   "id": "b6dda17a",
   "metadata": {},
   "source": [
    "##  Supporting Functions to Build, Train, and Test CNN Model"
   ]
  },
  {
   "cell_type": "code",
   "execution_count": 18,
   "id": "6f0f5127",
   "metadata": {},
   "outputs": [],
   "source": [
    "# this function returns a tf. variable used to store weights in a filter \n",
    "# the variable is initialized with values that can be used to infiltrate weights\n",
    "# the values are random numbers\n",
    "\n",
    "def initialize_weights (filter_shape):\n",
    "    init_random_dist = tf.truncated_normal(filter_shape, stddev=0.1)\n",
    "    return (tf.Variable(init_random_dist))"
   ]
  },
  {
   "cell_type": "code",
   "execution_count": 19,
   "id": "dcd19451",
   "metadata": {},
   "outputs": [],
   "source": [
    "# this function returns a tf. variable used to store bias\n",
    "# the variable is initialized with values that can be used to intialize bias\n",
    "# the values is intialized to 0.1\n",
    "\n",
    "def initialize_bias(bias_shape):\n",
    "    initial_bias_value = tf.constant(0.1, shape=bias_shape)\n",
    "    return(tf.Variable(initial_bias_value))"
   ]
  },
  {
   "cell_type": "markdown",
   "id": "e616cf35",
   "metadata": {},
   "source": [
    "#  convolution layer and perform convolution computation: dot product (x*W)"
   ]
  },
  {
   "cell_type": "code",
   "execution_count": 20,
   "id": "3d441414",
   "metadata": {},
   "outputs": [],
   "source": [
    "#Create a function for configuring a convolutional layer (conv2d) with the following parameters:\n",
    "\n",
    "#inputs: Represents the input data with dimensions {batch, H, W, channels}.\n",
    "\n",
    "#filter_shape: Describes the filter specifications with {filter H, filter W, in_channels (input depth = in_num_filters), out_channels (output depth = out_num_filters)}. For instance, you can specify it as {5, 5, 1, 32}.\n",
    "\n",
    "def create_convolution_layer_and_compute_dot_product (inputs, filter_shape):\n",
    "    #intialize the weights in filter\n",
    "    filter_intialized_with_weights = initialize_weights (filter_shape)\n",
    "    #creating a convolution layer\n",
    "    conv_layer_outputs = tf.nn.conv2d(inputs, filter_intialized_with_weights, strides=[1, 1, 1, 1], padding='SAME')\n",
    "  #Return the convultion layer outputs\n",
    "    return (conv_layer_outputs)"
   ]
  },
  {
   "cell_type": "markdown",
   "id": "b3656a7f",
   "metadata": {},
   "source": [
    "#  ReLU Layer and Perform Computation: Dot Product + Bias (x.W+b)"
   ]
  },
  {
   "cell_type": "code",
   "execution_count": 21,
   "id": "8bdff7ef",
   "metadata": {},
   "outputs": [],
   "source": [
    "#setting up layer and then perform the computation\n",
    "def create_relu_layer_and_compute_dotproduct_plus_b(inputs, filter_shape):\n",
    "    b = initialize_bias([filter_shape[3]])\n",
    "#creating relu layer \n",
    "    relu_layer_outputs = tf.nn.relu(inputs + b)\n",
    "#relu layer outputs    \n",
    "    return (relu_layer_outputs)"
   ]
  },
  {
   "cell_type": "markdown",
   "id": "e164354c",
   "metadata": {},
   "source": [
    "#   Pooling layer and reduce spatial size"
   ]
  },
  {
   "cell_type": "code",
   "execution_count": 22,
   "id": "1ed7fc06",
   "metadata": {},
   "outputs": [],
   "source": [
    "def create_maxpool2by2_and_reduce_spatial_size(inputs):\n",
    "#kernel size:2/2, stride= 2, max pooling method\n",
    "    pooling_layer_outputs = tf.nn.max_pool(inputs, ksize=[1,2,2,1], strides=[1,2,2,1], padding='SAME')\n",
    "#returning the pooling layer   \n",
    "    return(pooling_layer_outputs)"
   ]
  },
  {
   "cell_type": "markdown",
   "id": "4d559c21",
   "metadata": {},
   "source": [
    "# Setting up fully connected layer and performing computation: (inputs*weights) + bias"
   ]
  },
  {
   "cell_type": "code",
   "execution_count": 23,
   "id": "30dfe2be",
   "metadata": {},
   "outputs": [],
   "source": [
    "#defining a dunction to create an Fc to perform computation and return the results, inputs oare the output of precedding layer\n",
    "#the size of the outputs is the number of channels\n",
    "def create_fully_conected_layer_and_compute_dotproduct_plus_bias(inputs, output_size):\n",
    "    input_size = int(inputs.get_shape()[1])\n",
    "    W = initialize_weights([input_size, output_size])  #intialize the weights\n",
    "    b = initialize_bias([output_size])                  #intialize the bias where eaxh bias one output channel\n",
    "    fc_xW_plus_bias_outputs = tf.matmul(inputs, W) + b   #perform the computation for the fc layer \n",
    "    return(fc_xW_plus_bias_outputs)"
   ]
  },
  {
   "cell_type": "markdown",
   "id": "da3c5dc0",
   "metadata": {},
   "source": [
    "# PHASE I: Build CNN"
   ]
  },
  {
   "cell_type": "code",
   "execution_count": 24,
   "id": "1d5e3b5a",
   "metadata": {},
   "outputs": [],
   "source": [
    "import tensorflow as tf"
   ]
  },
  {
   "cell_type": "markdown",
   "id": "1f3f4d4a",
   "metadata": {},
   "source": [
    "## Create Placeholders for Inputs and Labels: x and y_true"
   ]
  },
  {
   "cell_type": "code",
   "execution_count": 25,
   "id": "55e5cf19",
   "metadata": {},
   "outputs": [
    {
     "name": "stdout",
     "output_type": "stream",
     "text": [
      "WARNING:tensorflow:From /tmp/ipykernel_7877/3140936945.py:7: The name tf.placeholder is deprecated. Please use tf.compat.v1.placeholder instead.\n",
      "\n"
     ]
    }
   ],
   "source": [
    "# PLACEHOLDER\n",
    "\n",
    "# Create a placeholder for the inputs data: x\n",
    "# x: a 2D array\n",
    "# x: a placeholder that can hold any number of rows/record\n",
    "\n",
    "x = tf.placeholder(tf.float32, shape=[None, 32, 32, 3])"
   ]
  },
  {
   "cell_type": "code",
   "execution_count": 26,
   "id": "e64bc672",
   "metadata": {},
   "outputs": [],
   "source": [
    "# PLACEHOLDER\n",
    "\n",
    "# Create a placeholder for the labels of the inputs data: y_true\n",
    "# y_true: a 2D array\n",
    "# y_true: Can hold any number of rows/records\n",
    "\n",
    "y_true = tf.placeholder(tf.float32, [None, 10])"
   ]
  },
  {
   "cell_type": "markdown",
   "id": "72e40f58",
   "metadata": {},
   "source": [
    "## Reshape the Input Placeholder x: NOT NEED TO RESHAPE DATA HERE"
   ]
  },
  {
   "cell_type": "code",
   "execution_count": 27,
   "id": "94c1eee7",
   "metadata": {},
   "outputs": [],
   "source": [
    "# no need to reshapre"
   ]
  },
  {
   "cell_type": "markdown",
   "id": "5d7224bd",
   "metadata": {},
   "source": [
    "## Create 1st Convolution Layer"
   ]
  },
  {
   "cell_type": "code",
   "execution_count": 28,
   "id": "a60d4d1d",
   "metadata": {},
   "outputs": [
    {
     "name": "stdout",
     "output_type": "stream",
     "text": [
      "WARNING:tensorflow:From /tmp/ipykernel_7877/3082341590.py:6: The name tf.truncated_normal is deprecated. Please use tf.random.truncated_normal instead.\n",
      "\n"
     ]
    }
   ],
   "source": [
    "#creating 1st convoultional layer and input channel is 1 and output channel are 32 \n",
    "#the shape of the filter is 5x5 and  after creating extract the features \n",
    "#get the results of output is dot product of inputs*weights\n",
    "conv_layer_1_outputs \\\n",
    "=create_convolution_layer_and_compute_dot_product (x, filter_shape=[5, 5, 3, 32])\n",
    "\n",
    "conv_layer_1_outputs \\\n",
    "= create_relu_layer_and_compute_dotproduct_plus_b (conv_layer_1_outputs, filter_shape=[5, 5, 3, 32])"
   ]
  },
  {
   "cell_type": "code",
   "execution_count": 29,
   "id": "622a5963",
   "metadata": {},
   "outputs": [
    {
     "name": "stdout",
     "output_type": "stream",
     "text": [
      "WARNING:tensorflow:From /tmp/ipykernel_7877/657390422.py:3: The name tf.nn.max_pool is deprecated. Please use tf.nn.max_pool2d instead.\n",
      "\n"
     ]
    }
   ],
   "source": [
    "#create pooling layer and reducing spatial size\n",
    "pooling_layer_1_ouptuts = create_maxpool2by2_and_reduce_spatial_size (conv_layer_1_outputs)"
   ]
  },
  {
   "cell_type": "markdown",
   "id": "835c58d7",
   "metadata": {},
   "source": [
    "## Create 2nd Convolutional Layer, ReLU Layer and Pooling Layer"
   ]
  },
  {
   "cell_type": "code",
   "execution_count": 30,
   "id": "d9931a6f",
   "metadata": {},
   "outputs": [],
   "source": [
    "#creating 2nd convolutionallayer and filter shape :5x5, inputs channels:32, output channel:64\n",
    "#creating 2nd layer and extracting the features and get the results of the output that is dot product of inputs* weights\n",
    "conv_layer_2_outputs \\\n",
    "= create_convolution_layer_and_compute_dot_product (pooling_layer_1_ouptuts, filter_shape=[5, 5, 32, 64])\n",
    "#return the outputs of layers and creating relu for 1st convolution layer  and performing computation and returning the outputs of layer\n",
    "conv_relu_layer_2_outputs \\\n",
    "= create_relu_layer_and_compute_dotproduct_plus_b (conv_layer_2_outputs, filter_shape=[5, 5, 32, 64])"
   ]
  },
  {
   "cell_type": "code",
   "execution_count": 31,
   "id": "14e01ea6",
   "metadata": {},
   "outputs": [],
   "source": [
    "pooling_layer_2_outputs = create_maxpool2by2_and_reduce_spatial_size (conv_relu_layer_2_outputs)"
   ]
  },
  {
   "cell_type": "markdown",
   "id": "e4188a79",
   "metadata": {},
   "source": [
    "## Reshape and flatten data making it ready to be fed into 1st FC layer"
   ]
  },
  {
   "cell_type": "code",
   "execution_count": 32,
   "id": "ad1af300",
   "metadata": {},
   "outputs": [],
   "source": [
    "#these are 2nd pooling layer outputs\n",
    "pooling_layer_2_outputs_flat = tf.reshape(pooling_layer_2_outputs, [-1, 8 * 8 * 64])"
   ]
  },
  {
   "cell_type": "markdown",
   "id": "14e5cafd",
   "metadata": {},
   "source": [
    "## create 1st FC Layer, ReLU Layer, and output data to dropout layer"
   ]
  },
  {
   "cell_type": "code",
   "execution_count": 33,
   "id": "6cbe2e14",
   "metadata": {},
   "outputs": [],
   "source": [
    "#creating outputlayer then feeding the output of the 2nd pooling as the inputs into this layer.\n",
    "fc_layer_1_outputs \\\n",
    "    = create_fully_conected_layer_and_compute_dotproduct_plus_bias(pooling_layer_2_outputs_flat, output_size=1024)\n",
    "fc_relu_layer_1_outputs = tf.nn.relu(fc_layer_1_outputs)"
   ]
  },
  {
   "cell_type": "markdown",
   "id": "efe45b3f",
   "metadata": {},
   "source": [
    "## create dropout layer  and dropout a fraction of outputs randomly"
   ]
  },
  {
   "cell_type": "code",
   "execution_count": 34,
   "id": "65d27d96",
   "metadata": {},
   "outputs": [
    {
     "name": "stdout",
     "output_type": "stream",
     "text": [
      "WARNING:tensorflow:From /tmp/ipykernel_7877/3599344588.py:3: calling dropout (from tensorflow.python.ops.nn_ops) with keep_prob is deprecated and will be removed in a future version.\n",
      "Instructions for updating:\n",
      "Please use `rate` instead of `keep_prob`. Rate should be set to `rate = 1 - keep_prob`.\n"
     ]
    }
   ],
   "source": [
    "#creating dropoutlayer and decalring a placeholder\n",
    "hold_prob = tf.placeholder(tf.float32)\n",
    "#setting the output to zero so that it could be ignored in the next layer\n",
    "fc_dropout_outputs = tf.nn.dropout(fc_relu_layer_1_outputs, keep_prob=hold_prob)"
   ]
  },
  {
   "cell_type": "markdown",
   "id": "6f480bb5",
   "metadata": {},
   "source": [
    "## Create final FC Layer (x * W + b) and produce final outputs"
   ]
  },
  {
   "cell_type": "code",
   "execution_count": 35,
   "id": "762339e9",
   "metadata": {},
   "outputs": [],
   "source": [
    "# creating a fully connected layer then we compute then return final classification outputs\n",
    "y_pred = create_fully_conected_layer_and_compute_dotproduct_plus_bias(fc_dropout_outputs, output_size=10)"
   ]
  },
  {
   "cell_type": "markdown",
   "id": "e0600b20",
   "metadata": {},
   "source": [
    "## Define loss function and calculate softmax cross entropy loss "
   ]
  },
  {
   "cell_type": "code",
   "execution_count": 36,
   "id": "899efa7b",
   "metadata": {},
   "outputs": [
    {
     "name": "stdout",
     "output_type": "stream",
     "text": [
      "WARNING:tensorflow:From /tmp/ipykernel_7877/2984114578.py:1: softmax_cross_entropy_with_logits (from tensorflow.python.ops.nn_ops) is deprecated and will be removed in a future version.\n",
      "Instructions for updating:\n",
      "\n",
      "Future major versions of TensorFlow will allow gradients to flow\n",
      "into the labels input on backprop by default.\n",
      "\n",
      "See `tf.nn.softmax_cross_entropy_with_logits_v2`.\n",
      "\n"
     ]
    }
   ],
   "source": [
    "# we calculate the soft cross entrophy loss\n",
    "softmax_cross_entropy_loss = tf.nn.softmax_cross_entropy_with_logits(labels=y_true, logits=y_pred)\n",
    "#to compute the mean of losses\n",
    "cross_entropy_mean = tf.reduce_mean (softmax_cross_entropy_loss)"
   ]
  },
  {
   "cell_type": "markdown",
   "id": "7c3ede3c",
   "metadata": {},
   "source": [
    "## Create an optimizer to optimize CNN model and set learning rate"
   ]
  },
  {
   "cell_type": "code",
   "execution_count": 37,
   "id": "d0360408",
   "metadata": {},
   "outputs": [
    {
     "name": "stdout",
     "output_type": "stream",
     "text": [
      "WARNING:tensorflow:From /tmp/ipykernel_7877/3333667868.py:1: The name tf.train.AdamOptimizer is deprecated. Please use tf.compat.v1.train.AdamOptimizer instead.\n",
      "\n"
     ]
    }
   ],
   "source": [
    "optimizer = tf.train.AdamOptimizer(learning_rate=0.001)"
   ]
  },
  {
   "cell_type": "markdown",
   "id": "9f373281",
   "metadata": {},
   "source": [
    "## create a trainer to train CNN model"
   ]
  },
  {
   "cell_type": "code",
   "execution_count": 38,
   "id": "7be6ba4f",
   "metadata": {},
   "outputs": [],
   "source": [
    "cnn_trainer = optimizer.minimize(cross_entropy_mean)"
   ]
  },
  {
   "cell_type": "markdown",
   "id": "c867d35f",
   "metadata": {},
   "source": [
    "# PHASE II: Train and Test CNN Model on CIFAR-10 Dataset"
   ]
  },
  {
   "cell_type": "markdown",
   "id": "923c7d8d",
   "metadata": {},
   "source": [
    "## ..."
   ]
  },
  {
   "cell_type": "code",
   "execution_count": 39,
   "id": "3cf04173",
   "metadata": {},
   "outputs": [
    {
     "name": "stdout",
     "output_type": "stream",
     "text": [
      "WARNING:tensorflow:From /tmp/ipykernel_7877/2314307437.py:1: The name tf.global_variables_initializer is deprecated. Please use tf.compat.v1.global_variables_initializer instead.\n",
      "\n"
     ]
    }
   ],
   "source": [
    "vars_initializer = tf.global_variables_initializer()   #get a variable initializer"
   ]
  },
  {
   "cell_type": "markdown",
   "id": "4d0024d5",
   "metadata": {},
   "source": [
    "# setting up  the steps and collecting datapoints"
   ]
  },
  {
   "cell_type": "code",
   "execution_count": 40,
   "id": "ede70ae8",
   "metadata": {},
   "outputs": [],
   "source": [
    "steps = 5000  #setting the steps to 5000 where batchsize =50 images then total number of images = 50000/50=1000 batches"
   ]
  },
  {
   "cell_type": "code",
   "execution_count": 41,
   "id": "6a73479e",
   "metadata": {},
   "outputs": [
    {
     "name": "stdout",
     "output_type": "stream",
     "text": [
      "WARNING:tensorflow:From /tmp/ipykernel_7877/1059167301.py:1: The name tf.Session is deprecated. Please use tf.compat.v1.Session instead.\n",
      "\n"
     ]
    },
    {
     "name": "stderr",
     "output_type": "stream",
     "text": [
      "\n",
      "User settings:\n",
      "\n",
      "   KMP_AFFINITY=granularity=fine,verbose,compact,1,0\n",
      "   KMP_BLOCKTIME=0\n",
      "   KMP_SETTINGS=1\n",
      "   OMP_NUM_THREADS=8\n",
      "\n",
      "Effective settings:\n",
      "\n",
      "   KMP_ABORT_DELAY=0\n",
      "   KMP_ADAPTIVE_LOCK_PROPS='1,1024'\n",
      "   KMP_ALIGN_ALLOC=64\n",
      "   KMP_ALL_THREADPRIVATE=128\n",
      "   KMP_ATOMIC_MODE=2\n",
      "   KMP_BLOCKTIME=0\n",
      "   KMP_CPUINFO_FILE: value is not defined\n",
      "   KMP_DETERMINISTIC_REDUCTION=false\n",
      "   KMP_DEVICE_THREAD_LIMIT=2147483647\n",
      "   KMP_DISP_HAND_THREAD=false\n",
      "   KMP_DISP_NUM_BUFFERS=7\n",
      "   KMP_DUPLICATE_LIB_OK=false\n",
      "   KMP_FORCE_REDUCTION: value is not defined\n",
      "   KMP_FOREIGN_THREADS_THREADPRIVATE=true\n",
      "   KMP_FORKJOIN_BARRIER='2,2'\n",
      "   KMP_FORKJOIN_BARRIER_PATTERN='hyper,hyper'\n",
      "   KMP_FORKJOIN_FRAMES=true\n",
      "   KMP_FORKJOIN_FRAMES_MODE=3\n",
      "   KMP_GTID_MODE=3\n",
      "   KMP_HANDLE_SIGNALS=false\n",
      "   KMP_HOT_TEAMS_MAX_LEVEL=1\n",
      "   KMP_HOT_TEAMS_MODE=0\n",
      "   KMP_INIT_AT_FORK=true\n",
      "   KMP_ITT_PREPARE_DELAY=0\n",
      "   KMP_LIBRARY=throughput\n",
      "   KMP_LOCK_KIND=queuing\n",
      "   KMP_MALLOC_POOL_INCR=1M\n",
      "   KMP_MWAIT_HINTS=0\n",
      "   KMP_NUM_LOCKS_IN_BLOCK=1\n",
      "   KMP_PLAIN_BARRIER='2,2'\n",
      "   KMP_PLAIN_BARRIER_PATTERN='hyper,hyper'\n",
      "   KMP_REDUCTION_BARRIER='1,1'\n",
      "   KMP_REDUCTION_BARRIER_PATTERN='hyper,hyper'\n",
      "   KMP_SCHEDULE='static,balanced;guided,iterative'\n",
      "   KMP_SETTINGS=true\n",
      "   KMP_SPIN_BACKOFF_PARAMS='4096,100'\n",
      "   KMP_STACKOFFSET=64\n",
      "   KMP_STACKPAD=0\n",
      "   KMP_STACKSIZE=8M\n",
      "   KMP_STORAGE_MAP=false\n",
      "   KMP_TASKING=2\n",
      "   KMP_TASKLOOP_MIN_TASKS=0\n",
      "   KMP_TASK_STEALING_CONSTRAINT=1\n",
      "   KMP_TEAMS_THREAD_LIMIT=8\n",
      "   KMP_TOPOLOGY_METHOD=all\n",
      "   KMP_USER_LEVEL_MWAIT=false\n",
      "   KMP_USE_YIELD=1\n",
      "   KMP_VERSION=false\n",
      "   KMP_WARNINGS=true\n",
      "   OMP_AFFINITY_FORMAT='OMP: pid %P tid %i thread %n bound to OS proc set {%A}'\n",
      "   OMP_ALLOCATOR=omp_default_mem_alloc\n",
      "   OMP_CANCELLATION=false\n",
      "   OMP_DEBUG=disabled\n",
      "   OMP_DEFAULT_DEVICE=0\n",
      "   OMP_DISPLAY_AFFINITY=false\n",
      "   OMP_DISPLAY_ENV=false\n",
      "   OMP_DYNAMIC=false\n",
      "   OMP_MAX_ACTIVE_LEVELS=2147483647\n",
      "   OMP_MAX_TASK_PRIORITY=0\n",
      "   OMP_NESTED=false\n",
      "   OMP_NUM_THREADS='8'\n",
      "   OMP_PLACES: value is not defined\n",
      "   OMP_PROC_BIND='intel'\n",
      "   OMP_SCHEDULE='static'\n",
      "   OMP_STACKSIZE=8M\n",
      "   OMP_TARGET_OFFLOAD=DEFAULT\n",
      "   OMP_THREAD_LIMIT=2147483647\n",
      "   OMP_TOOL=enabled\n",
      "   OMP_TOOL_LIBRARIES: value is not defined\n",
      "   OMP_WAIT_POLICY=PASSIVE\n",
      "   KMP_AFFINITY='verbose,warnings,respect,granularity=fine,compact,1,0'\n",
      "\n",
      "2022-05-06 23:26:50.220824: I tensorflow/core/platform/profile_utils/cpu_utils.cc:94] CPU Frequency: 2200210000 Hz\n",
      "2022-05-06 23:26:50.221503: I tensorflow/compiler/xla/service/service.cc:168] XLA service 0x56416ef745b0 initialized for platform Host (this does not guarantee that XLA will be used). Devices:\n",
      "2022-05-06 23:26:50.221604: I tensorflow/compiler/xla/service/service.cc:176]   StreamExecutor device (0): Host, Default Version\n",
      "2022-05-06 23:26:50.221736: I tensorflow/core/common_runtime/process_util.cc:136] Creating new thread pool with default inter op setting: 2. Tune using inter_op_parallelism_threads for best performance.\n",
      "OMP: Info #212: KMP_AFFINITY: decoding x2APIC ids.\n",
      "OMP: Info #210: KMP_AFFINITY: Affinity capable, using global cpuid leaf 11 info\n",
      "OMP: Info #154: KMP_AFFINITY: Initial OS proc set respected: 0-7\n",
      "OMP: Info #156: KMP_AFFINITY: 8 available OS procs\n",
      "OMP: Info #157: KMP_AFFINITY: Uniform topology\n",
      "OMP: Info #179: KMP_AFFINITY: 1 packages x 4 cores/pkg x 2 threads/core (4 total cores)\n",
      "OMP: Info #214: KMP_AFFINITY: OS proc to physical thread map:\n",
      "OMP: Info #171: KMP_AFFINITY: OS proc 0 maps to package 0 core 0 thread 0 \n",
      "OMP: Info #171: KMP_AFFINITY: OS proc 4 maps to package 0 core 0 thread 1 \n",
      "OMP: Info #171: KMP_AFFINITY: OS proc 1 maps to package 0 core 1 thread 0 \n",
      "OMP: Info #171: KMP_AFFINITY: OS proc 5 maps to package 0 core 1 thread 1 \n",
      "OMP: Info #171: KMP_AFFINITY: OS proc 2 maps to package 0 core 2 thread 0 \n",
      "OMP: Info #171: KMP_AFFINITY: OS proc 6 maps to package 0 core 2 thread 1 \n",
      "OMP: Info #171: KMP_AFFINITY: OS proc 3 maps to package 0 core 3 thread 0 \n",
      "OMP: Info #171: KMP_AFFINITY: OS proc 7 maps to package 0 core 3 thread 1 \n",
      "OMP: Info #250: KMP_AFFINITY: pid 7877 tid 7922 thread 0 bound to OS proc set 0\n",
      "OMP: Info #250: KMP_AFFINITY: pid 7877 tid 7922 thread 1 bound to OS proc set 1\n",
      "OMP: Info #250: KMP_AFFINITY: pid 7877 tid 7924 thread 2 bound to OS proc set 2\n",
      "OMP: Info #250: KMP_AFFINITY: pid 7877 tid 7925 thread 3 bound to OS proc set 3\n",
      "OMP: Info #250: KMP_AFFINITY: pid 7877 tid 7926 thread 4 bound to OS proc set 4\n",
      "OMP: Info #250: KMP_AFFINITY: pid 7877 tid 7927 thread 5 bound to OS proc set 5\n",
      "OMP: Info #250: KMP_AFFINITY: pid 7877 tid 7929 thread 7 bound to OS proc set 7\n",
      "OMP: Info #250: KMP_AFFINITY: pid 7877 tid 7928 thread 6 bound to OS proc set 6\n",
      "OMP: Info #250: KMP_AFFINITY: pid 7877 tid 7930 thread 8 bound to OS proc set 0\n",
      "OMP: Info #250: KMP_AFFINITY: pid 7877 tid 7921 thread 9 bound to OS proc set 1\n",
      "OMP: Info #250: KMP_AFFINITY: pid 7877 tid 7932 thread 11 bound to OS proc set 3\n",
      "OMP: Info #250: KMP_AFFINITY: pid 7877 tid 7933 thread 12 bound to OS proc set 4\n",
      "OMP: Info #250: KMP_AFFINITY: pid 7877 tid 7931 thread 10 bound to OS proc set 2\n",
      "OMP: Info #250: KMP_AFFINITY: pid 7877 tid 7935 thread 14 bound to OS proc set 6\n",
      "OMP: Info #250: KMP_AFFINITY: pid 7877 tid 7934 thread 13 bound to OS proc set 5\n",
      "OMP: Info #250: KMP_AFFINITY: pid 7877 tid 7936 thread 15 bound to OS proc set 7\n",
      "OMP: Info #250: KMP_AFFINITY: pid 7877 tid 7937 thread 16 bound to OS proc set 0\n"
     ]
    },
    {
     "name": "stdout",
     "output_type": "stream",
     "text": [
      "ON STEP: 0\n",
      "ACCURACY: \n",
      "0.0946\n",
      "\n",
      "\n",
      "ON STEP: 100\n",
      "ACCURACY: \n",
      "0.3701\n",
      "\n",
      "\n",
      "ON STEP: 200\n",
      "ACCURACY: \n",
      "0.4199\n",
      "\n",
      "\n",
      "ON STEP: 300\n",
      "ACCURACY: \n",
      "0.4955\n",
      "\n",
      "\n",
      "ON STEP: 400\n",
      "ACCURACY: \n",
      "0.5184\n",
      "\n",
      "\n",
      "ON STEP: 500\n",
      "ACCURACY: \n",
      "0.5435\n",
      "\n",
      "\n",
      "ON STEP: 600\n",
      "ACCURACY: \n",
      "0.5559\n",
      "\n",
      "\n",
      "ON STEP: 700\n",
      "ACCURACY: \n",
      "0.5642\n",
      "\n",
      "\n",
      "ON STEP: 800\n",
      "ACCURACY: \n",
      "0.5707\n",
      "\n",
      "\n",
      "ON STEP: 900\n",
      "ACCURACY: \n",
      "0.5698\n",
      "\n",
      "\n",
      "ON STEP: 1000\n",
      "ACCURACY: \n",
      "0.6113\n",
      "\n",
      "\n",
      "ON STEP: 1100\n",
      "ACCURACY: \n",
      "0.612\n",
      "\n",
      "\n",
      "ON STEP: 1200\n",
      "ACCURACY: \n",
      "0.6256\n",
      "\n",
      "\n",
      "ON STEP: 1300\n",
      "ACCURACY: \n",
      "0.6012\n",
      "\n",
      "\n",
      "ON STEP: 1400\n",
      "ACCURACY: \n",
      "0.6157\n",
      "\n",
      "\n",
      "ON STEP: 1500\n",
      "ACCURACY: \n",
      "0.6443\n",
      "\n",
      "\n",
      "ON STEP: 1600\n",
      "ACCURACY: \n",
      "0.6399\n",
      "\n",
      "\n",
      "ON STEP: 1700\n",
      "ACCURACY: \n",
      "0.6425\n",
      "\n",
      "\n",
      "ON STEP: 1800\n",
      "ACCURACY: \n",
      "0.6379\n",
      "\n",
      "\n",
      "ON STEP: 1900\n",
      "ACCURACY: \n",
      "0.645\n",
      "\n",
      "\n",
      "ON STEP: 2000\n",
      "ACCURACY: \n",
      "0.6492\n",
      "\n",
      "\n",
      "ON STEP: 2100\n",
      "ACCURACY: \n",
      "0.6522\n",
      "\n",
      "\n",
      "ON STEP: 2200\n",
      "ACCURACY: \n",
      "0.6547\n",
      "\n",
      "\n",
      "ON STEP: 2300\n",
      "ACCURACY: \n",
      "0.639\n",
      "\n",
      "\n",
      "ON STEP: 2400\n",
      "ACCURACY: \n",
      "0.6512\n",
      "\n",
      "\n",
      "ON STEP: 2500\n",
      "ACCURACY: \n",
      "0.6468\n",
      "\n",
      "\n",
      "ON STEP: 2600\n",
      "ACCURACY: \n",
      "0.6587\n",
      "\n",
      "\n",
      "ON STEP: 2700\n",
      "ACCURACY: \n",
      "0.6657\n",
      "\n",
      "\n",
      "ON STEP: 2800\n",
      "ACCURACY: \n",
      "0.6562\n",
      "\n",
      "\n",
      "ON STEP: 2900\n",
      "ACCURACY: \n",
      "0.6602\n",
      "\n",
      "\n",
      "ON STEP: 3000\n",
      "ACCURACY: \n",
      "0.6631\n",
      "\n",
      "\n",
      "ON STEP: 3100\n",
      "ACCURACY: \n",
      "0.6631\n",
      "\n",
      "\n",
      "ON STEP: 3200\n",
      "ACCURACY: \n",
      "0.6639\n",
      "\n",
      "\n",
      "ON STEP: 3300\n",
      "ACCURACY: \n",
      "0.652\n",
      "\n",
      "\n",
      "ON STEP: 3400\n",
      "ACCURACY: \n",
      "0.6634\n",
      "\n",
      "\n",
      "ON STEP: 3500\n",
      "ACCURACY: \n",
      "0.6708\n",
      "\n",
      "\n",
      "ON STEP: 3600\n",
      "ACCURACY: \n",
      "0.6671\n",
      "\n",
      "\n",
      "ON STEP: 3700\n",
      "ACCURACY: \n",
      "0.6766\n",
      "\n",
      "\n",
      "ON STEP: 3800\n",
      "ACCURACY: \n",
      "0.6576\n",
      "\n",
      "\n",
      "ON STEP: 3900\n",
      "ACCURACY: \n",
      "0.6667\n",
      "\n",
      "\n",
      "ON STEP: 4000\n",
      "ACCURACY: \n",
      "0.6755\n",
      "\n",
      "\n",
      "ON STEP: 4100\n",
      "ACCURACY: \n",
      "0.6766\n",
      "\n",
      "\n",
      "ON STEP: 4200\n",
      "ACCURACY: \n",
      "0.6679\n",
      "\n",
      "\n",
      "ON STEP: 4300\n",
      "ACCURACY: \n",
      "0.653\n",
      "\n",
      "\n",
      "ON STEP: 4400\n",
      "ACCURACY: \n",
      "0.6756\n",
      "\n",
      "\n",
      "ON STEP: 4500\n",
      "ACCURACY: \n",
      "0.6812\n",
      "\n",
      "\n",
      "ON STEP: 4600\n",
      "ACCURACY: \n",
      "0.6812\n",
      "\n",
      "\n",
      "ON STEP: 4700\n",
      "ACCURACY: \n",
      "0.6699\n",
      "\n",
      "\n",
      "ON STEP: 4800\n",
      "ACCURACY: \n",
      "0.6545\n",
      "\n",
      "\n",
      "ON STEP: 4900\n",
      "ACCURACY: \n",
      "0.6674\n",
      "\n",
      "\n"
     ]
    }
   ],
   "source": [
    "with tf.Session() as sess:\n",
    "\n",
    "    sess.run(vars_initializer) #rthis command is to initialize all the variables\n",
    "    for i in range(steps):\n",
    "        batch_x, batch_y = ch.next_batch(100)  #each batch 100 images\n",
    "#train the model and dropout prob---50% will be dropped\n",
    "        sess.run(cnn_trainer, feed_dict={x: batch_x, y_true: batch_y, hold_prob: 0.5})\n",
    "#test the model at each 100th step and run the block of code for each 100 times of accuracy\n",
    "        if i % 100 == 0:\n",
    "            print('ON STEP: {}'.format(i) )\n",
    "            print('ACCURACY: ')\n",
    "#compare to find matches of y_pred and y_true\n",
    "            matches = tf.equal(tf.argmax(y_pred, 1), tf.argmax(y_true, 1) )\n",
    "#cast the matches from integers to tf.float32 and calculate the acciracy using the mean of the matches\n",
    "            acc = tf.reduce_mean(tf.cast(matches, tf.float32))\n",
    "#testing the model at each 100th step,using test dataset and dropout:none (because of not training)\n",
    "            test_accuracy = sess.run(acc,feed_dict={x:ch.test_images,\\\n",
    "                                                y_true:ch.test_labels,\\\n",
    "                                                hold_prob:1.0})\n",
    "            print(test_accuracy)\n",
    "            print('\\n')"
   ]
  },
  {
   "cell_type": "code",
   "execution_count": null,
   "id": "0b84d680",
   "metadata": {},
   "outputs": [],
   "source": []
  }
 ],
 "metadata": {
  "kernelspec": {
   "display_name": "Python 3 (ipykernel)",
   "language": "python",
   "name": "python3"
  },
  "language_info": {
   "codemirror_mode": {
    "name": "ipython",
    "version": 3
   },
   "file_extension": ".py",
   "mimetype": "text/x-python",
   "name": "python",
   "nbconvert_exporter": "python",
   "pygments_lexer": "ipython3",
   "version": "3.9.13"
  }
 },
 "nbformat": 4,
 "nbformat_minor": 5
}
